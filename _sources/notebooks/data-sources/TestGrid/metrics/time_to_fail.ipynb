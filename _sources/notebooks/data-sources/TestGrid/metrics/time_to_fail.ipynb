{
 "cells": [
  {
   "cell_type": "markdown",
   "metadata": {},
   "source": [
    "# Time to Fail\n",
    "\n",
    "One of the machine learning requests that we would like to create greater visibility into and for a given test, to build a model that can predict an optimal stopping point, beyond which a test is more likely to result in a failure.\n",
    "\n",
    "In order to achieve the above, we would be looking into the data for all the failed tests and find the distribution type for the test_duration metric. This will allow us to visualize the distribution across various testgrid dashboards and jobs. After finding out the distribution, we can find a point after which the test has a higher probability of failing.\n",
    "\n",
    "\n",
    "\n",
    "Linked issue(s) : [Issue1](https://github.com/aicoe-aiops/ocp-ci-analysis/issues/333), [Issue2](https://github.com/aicoe-aiops/ocp-ci-analysis/issues/226)"
   ]
  },
  {
   "cell_type": "code",
   "execution_count": 1,
   "metadata": {},
   "outputs": [
    {
     "data": {
      "text/plain": [
       "True"
      ]
     },
     "execution_count": 1,
     "metadata": {},
     "output_type": "execute_result"
    }
   ],
   "source": [
    "import json\n",
    "import gzip\n",
    "import os\n",
    "import pandas as pd\n",
    "import matplotlib.pyplot as plt\n",
    "import numpy as np\n",
    "import datetime\n",
    "import scipy.stats\n",
    "from sklearn.preprocessing import StandardScaler\n",
    "from scipy.stats import invgauss, lognorm\n",
    "\n",
    "from ipynb.fs.defs.metric_template import testgrid_labelwise_encoding\n",
    "from ipynb.fs.defs.metric_template import CephCommunication\n",
    "from dotenv import load_dotenv, find_dotenv\n",
    "import warnings\n",
    "\n",
    "warnings.filterwarnings(\"ignore\")\n",
    "\n",
    "load_dotenv(find_dotenv())"
   ]
  },
  {
   "cell_type": "code",
   "execution_count": 2,
   "metadata": {},
   "outputs": [],
   "source": [
    "## Specify variables\n",
    "\n",
    "METRIC_NAME = \"time_to_fail\"\n",
    "\n",
    "# Specify the path for input grid data\n",
    "INPUT_DATA_PATH = \"../../../../data/raw/testgrid_183.json.gz\"\n",
    "\n",
    "# Specify the path for output metric data\n",
    "OUTPUT_DATA_PATH = f\"../../../../data/processed/metrics/{METRIC_NAME}\"\n",
    "\n",
    "## CEPH Bucket variables\n",
    "## Create a .env file on your local with the correct configs\n",
    "s3_endpoint_url = os.getenv(\"S3_ENDPOINT\")\n",
    "s3_access_key = os.getenv(\"S3_ACCESS_KEY\")\n",
    "s3_secret_key = os.getenv(\"S3_SECRET_KEY\")\n",
    "s3_bucket = os.getenv(\"S3_BUCKET\")\n",
    "s3_path = os.getenv(\"S3_PROJECT_KEY\", \"metrics\")\n",
    "s3_input_data_path = \"raw_data\"\n",
    "\n",
    "# Specify whether or not we are running this as a notebook or part of an automation pipeline.\n",
    "AUTOMATION = os.getenv(\"IN_AUTOMATION\")"
   ]
  },
  {
   "cell_type": "code",
   "execution_count": 3,
   "metadata": {},
   "outputs": [],
   "source": [
    "## Import data\n",
    "timestamp = datetime.datetime.today()\n",
    "\n",
    "if AUTOMATION:\n",
    "    filename = f\"testgrid_{timestamp.day}{timestamp.month}.json\"\n",
    "    cc = CephCommunication(s3_endpoint_url, s3_access_key, s3_secret_key, s3_bucket)\n",
    "    s3_object = cc.s3_resource.Object(s3_bucket, f\"{s3_input_data_path}/{filename}\")\n",
    "    file_content = s3_object.get()[\"Body\"].read().decode(\"utf-8\")\n",
    "    testgrid_data = json.loads(file_content)\n",
    "\n",
    "else:\n",
    "    with gzip.open(INPUT_DATA_PATH, \"rb\") as read_file:\n",
    "        testgrid_data = json.load(read_file)"
   ]
  },
  {
   "cell_type": "markdown",
   "metadata": {},
   "source": [
    "## Helper Functions"
   ]
  },
  {
   "cell_type": "code",
   "execution_count": 4,
   "metadata": {},
   "outputs": [],
   "source": [
    "# Function to filter the df for a specified test\n",
    "def filter_test_type(df, test):\n",
    "    failures_test = df[df[\"test\"] == test]\n",
    "    failures_test = failures_test.reset_index(drop=True)\n",
    "    return failures_test"
   ]
  },
  {
   "cell_type": "code",
   "execution_count": 5,
   "metadata": {},
   "outputs": [],
   "source": [
    "def standardize(df, column, pct, pct_lower):\n",
    "    \"\"\"\n",
    "    Function to standardize the features by removing the mean\n",
    "    and scaling to unit variance using StandardScaler library.\n",
    "\n",
    "    Returns standandardized feature, length of the feature\n",
    "    and the original feature.\n",
    "    \"\"\"\n",
    "    sc = StandardScaler()\n",
    "    y = df[column][df[column].notnull()].to_list()\n",
    "    y.sort()\n",
    "    len_y = len(y)\n",
    "    y = y[int(pct_lower * len_y) : int(len_y * pct)]\n",
    "    len_y = len(y)\n",
    "    yy = [[x] for x in y]\n",
    "    sc.fit(yy)\n",
    "    y_std = sc.transform(yy)\n",
    "    y_std = y_std.flatten()\n",
    "    return y_std, len_y, y"
   ]
  },
  {
   "cell_type": "code",
   "execution_count": 6,
   "metadata": {},
   "outputs": [],
   "source": [
    "def fit_distribution(df, column, pct, pct_lower):\n",
    "    \"\"\"\n",
    "    This function helps to list out the chi-square statistics for each\n",
    "    distribution and further sorts them to find the best distribution.\n",
    "\n",
    "    Returns a table that contains sorted chi-square values.\n",
    "    \"\"\"\n",
    "    # Set up list of candidate distributions to use\n",
    "    y_std, size, y_org = standardize(df, column, pct, pct_lower)\n",
    "    dist_names = [\n",
    "        \"weibull_min\",\n",
    "        \"norm\",\n",
    "        \"weibull_max\",\n",
    "        \"beta\",\n",
    "        \"invgauss\",\n",
    "        \"uniform\",\n",
    "        \"gamma\",\n",
    "        \"expon\",\n",
    "        \"lognorm\",\n",
    "        \"pearson3\",\n",
    "        \"triang\",\n",
    "    ]\n",
    "\n",
    "    chi_square_statistics = []\n",
    "\n",
    "    # 50 bins\n",
    "    percentile_bins = np.linspace(0, 100, 50)\n",
    "    percentile_cutoffs = np.percentile(y_std, percentile_bins)\n",
    "    observed_frequency, bins = np.histogram(y_std, bins=percentile_cutoffs)\n",
    "    cum_observed_frequency = np.cumsum(observed_frequency)\n",
    "\n",
    "    # Loop through candidate distributions\n",
    "    for distribution in dist_names:\n",
    "        # Set up distribution and get fitted distribution parameters\n",
    "        dist = getattr(scipy.stats, distribution)\n",
    "        param = dist.fit(y_std)\n",
    "        print(\"{}\\n{}\\n\".format(dist, param))\n",
    "\n",
    "        # Get expected counts in percentile bins\n",
    "        # cdf of fitted distribution across bins\n",
    "        cdf_fitted = dist.cdf(percentile_cutoffs, *param)\n",
    "        expected_frequency = []\n",
    "        for bin in range(len(percentile_bins) - 1):\n",
    "            expected_cdf_area = cdf_fitted[bin + 1] - cdf_fitted[bin]\n",
    "            expected_frequency.append(expected_cdf_area)\n",
    "\n",
    "        # Chi-square Statistics\n",
    "        expected_frequency = np.array(expected_frequency) * size\n",
    "        cum_expected_frequency = np.cumsum(expected_frequency)\n",
    "        ss = scipy.stats.chisquare(\n",
    "            f_obs=cum_observed_frequency, f_exp=cum_expected_frequency\n",
    "        )\n",
    "        chi_square_statistics.append(ss)\n",
    "\n",
    "    # Sort by minimum ch-square statistics\n",
    "    results = pd.DataFrame()\n",
    "    results[\"Distribution\"] = dist_names\n",
    "    results[\"chi_square and p-value\"] = chi_square_statistics\n",
    "    results.sort_values([\"chi_square and p-value\"], inplace=True)\n",
    "\n",
    "    print(\"\\nDistributions listed by Betterment of fit:\")\n",
    "    print(\"............................................\")\n",
    "    print(results)"
   ]
  },
  {
   "cell_type": "markdown",
   "metadata": {},
   "source": [
    "## Calculation"
   ]
  },
  {
   "cell_type": "code",
   "execution_count": 7,
   "metadata": {},
   "outputs": [],
   "source": [
    "# We will now fetch all the tests which are failing i.e. have a status code of 12.\n",
    "failures_list = testgrid_labelwise_encoding(testgrid_data, 12, overall_only=False)"
   ]
  },
  {
   "cell_type": "code",
   "execution_count": 8,
   "metadata": {},
   "outputs": [
    {
     "data": {
      "text/html": [
       "<div>\n",
       "<style scoped>\n",
       "    .dataframe tbody tr th:only-of-type {\n",
       "        vertical-align: middle;\n",
       "    }\n",
       "\n",
       "    .dataframe tbody tr th {\n",
       "        vertical-align: top;\n",
       "    }\n",
       "\n",
       "    .dataframe thead th {\n",
       "        text-align: right;\n",
       "    }\n",
       "</style>\n",
       "<table border=\"1\" class=\"dataframe\">\n",
       "  <thead>\n",
       "    <tr style=\"text-align: right;\">\n",
       "      <th></th>\n",
       "      <th>timestamp</th>\n",
       "      <th>tab</th>\n",
       "      <th>grid</th>\n",
       "      <th>test</th>\n",
       "      <th>test_duration</th>\n",
       "      <th>failure</th>\n",
       "    </tr>\n",
       "  </thead>\n",
       "  <tbody>\n",
       "    <tr>\n",
       "      <th>0</th>\n",
       "      <td>2021-08-25 14:51:42</td>\n",
       "      <td>\"redhat-assisted-installer\"</td>\n",
       "      <td>periodic-ci-openshift-release-master-nightly-4...</td>\n",
       "      <td>Overall</td>\n",
       "      <td>NaN</td>\n",
       "      <td>False</td>\n",
       "    </tr>\n",
       "    <tr>\n",
       "      <th>1</th>\n",
       "      <td>2021-08-23 00:01:04</td>\n",
       "      <td>\"redhat-assisted-installer\"</td>\n",
       "      <td>periodic-ci-openshift-release-master-nightly-4...</td>\n",
       "      <td>Overall</td>\n",
       "      <td>95.300000</td>\n",
       "      <td>False</td>\n",
       "    </tr>\n",
       "    <tr>\n",
       "      <th>2</th>\n",
       "      <td>2021-08-22 08:53:17</td>\n",
       "      <td>\"redhat-assisted-installer\"</td>\n",
       "      <td>periodic-ci-openshift-release-master-nightly-4...</td>\n",
       "      <td>Overall</td>\n",
       "      <td>101.800000</td>\n",
       "      <td>False</td>\n",
       "    </tr>\n",
       "    <tr>\n",
       "      <th>3</th>\n",
       "      <td>2021-08-20 23:21:32</td>\n",
       "      <td>\"redhat-assisted-installer\"</td>\n",
       "      <td>periodic-ci-openshift-release-master-nightly-4...</td>\n",
       "      <td>Overall</td>\n",
       "      <td>134.833333</td>\n",
       "      <td>False</td>\n",
       "    </tr>\n",
       "    <tr>\n",
       "      <th>4</th>\n",
       "      <td>2021-08-20 15:57:36</td>\n",
       "      <td>\"redhat-assisted-installer\"</td>\n",
       "      <td>periodic-ci-openshift-release-master-nightly-4...</td>\n",
       "      <td>Overall</td>\n",
       "      <td>109.833333</td>\n",
       "      <td>False</td>\n",
       "    </tr>\n",
       "  </tbody>\n",
       "</table>\n",
       "</div>"
      ],
      "text/plain": [
       "            timestamp                          tab  \\\n",
       "0 2021-08-25 14:51:42  \"redhat-assisted-installer\"   \n",
       "1 2021-08-23 00:01:04  \"redhat-assisted-installer\"   \n",
       "2 2021-08-22 08:53:17  \"redhat-assisted-installer\"   \n",
       "3 2021-08-20 23:21:32  \"redhat-assisted-installer\"   \n",
       "4 2021-08-20 15:57:36  \"redhat-assisted-installer\"   \n",
       "\n",
       "                                                grid     test  test_duration  \\\n",
       "0  periodic-ci-openshift-release-master-nightly-4...  Overall            NaN   \n",
       "1  periodic-ci-openshift-release-master-nightly-4...  Overall      95.300000   \n",
       "2  periodic-ci-openshift-release-master-nightly-4...  Overall     101.800000   \n",
       "3  periodic-ci-openshift-release-master-nightly-4...  Overall     134.833333   \n",
       "4  periodic-ci-openshift-release-master-nightly-4...  Overall     109.833333   \n",
       "\n",
       "   failure  \n",
       "0    False  \n",
       "1    False  \n",
       "2    False  \n",
       "3    False  \n",
       "4    False  "
      ]
     },
     "execution_count": 8,
     "metadata": {},
     "output_type": "execute_result"
    }
   ],
   "source": [
    "# Convert to dataframe\n",
    "failures_df = pd.DataFrame(\n",
    "    failures_list,\n",
    "    columns=[\"timestamp\", \"tab\", \"grid\", \"test\", \"test_duration\", \"failure\"],\n",
    ")\n",
    "failures_df.head()"
   ]
  },
  {
   "cell_type": "code",
   "execution_count": 9,
   "metadata": {},
   "outputs": [
    {
     "data": {
      "text/plain": [
       "36046950"
      ]
     },
     "execution_count": 9,
     "metadata": {},
     "output_type": "execute_result"
    }
   ],
   "source": [
    "len(failures_df)"
   ]
  },
  {
   "cell_type": "code",
   "execution_count": 10,
   "metadata": {},
   "outputs": [
    {
     "data": {
      "text/plain": [
       "19749103"
      ]
     },
     "execution_count": 10,
     "metadata": {},
     "output_type": "execute_result"
    }
   ],
   "source": [
    "# We will drop all the rows having NaN values\n",
    "failures_df = failures_df.dropna()\n",
    "len(failures_df)"
   ]
  },
  {
   "cell_type": "code",
   "execution_count": 11,
   "metadata": {},
   "outputs": [
    {
     "data": {
      "text/plain": [
       "156752"
      ]
     },
     "execution_count": 11,
     "metadata": {},
     "output_type": "execute_result"
    }
   ],
   "source": [
    "# We will now filter the df for extracting only the tests that are failing\n",
    "failures_df = failures_df[failures_df[\"failure\"]]\n",
    "len(failures_df)"
   ]
  },
  {
   "cell_type": "code",
   "execution_count": 12,
   "metadata": {},
   "outputs": [
    {
     "data": {
      "text/html": [
       "<div>\n",
       "<style scoped>\n",
       "    .dataframe tbody tr th:only-of-type {\n",
       "        vertical-align: middle;\n",
       "    }\n",
       "\n",
       "    .dataframe tbody tr th {\n",
       "        vertical-align: top;\n",
       "    }\n",
       "\n",
       "    .dataframe thead th {\n",
       "        text-align: right;\n",
       "    }\n",
       "</style>\n",
       "<table border=\"1\" class=\"dataframe\">\n",
       "  <thead>\n",
       "    <tr style=\"text-align: right;\">\n",
       "      <th></th>\n",
       "      <th>timestamp</th>\n",
       "      <th>tab</th>\n",
       "      <th>grid</th>\n",
       "      <th>test</th>\n",
       "      <th>test_duration</th>\n",
       "      <th>failure</th>\n",
       "    </tr>\n",
       "  </thead>\n",
       "  <tbody>\n",
       "    <tr>\n",
       "      <th>8</th>\n",
       "      <td>2021-08-16 23:03:14</td>\n",
       "      <td>\"redhat-assisted-installer\"</td>\n",
       "      <td>periodic-ci-openshift-release-master-nightly-4...</td>\n",
       "      <td>Overall</td>\n",
       "      <td>20.016667</td>\n",
       "      <td>True</td>\n",
       "    </tr>\n",
       "    <tr>\n",
       "      <th>10</th>\n",
       "      <td>2021-08-16 00:01:05</td>\n",
       "      <td>\"redhat-assisted-installer\"</td>\n",
       "      <td>periodic-ci-openshift-release-master-nightly-4...</td>\n",
       "      <td>Overall</td>\n",
       "      <td>108.233333</td>\n",
       "      <td>True</td>\n",
       "    </tr>\n",
       "    <tr>\n",
       "      <th>22</th>\n",
       "      <td>2021-08-16 23:03:14</td>\n",
       "      <td>\"redhat-assisted-installer\"</td>\n",
       "      <td>periodic-ci-openshift-release-master-nightly-4...</td>\n",
       "      <td>operator.Run multi-stage test e2e-metal-assist...</td>\n",
       "      <td>13.166667</td>\n",
       "      <td>True</td>\n",
       "    </tr>\n",
       "    <tr>\n",
       "      <th>24</th>\n",
       "      <td>2021-08-16 00:01:05</td>\n",
       "      <td>\"redhat-assisted-installer\"</td>\n",
       "      <td>periodic-ci-openshift-release-master-nightly-4...</td>\n",
       "      <td>operator.Run multi-stage test e2e-metal-assist...</td>\n",
       "      <td>89.983333</td>\n",
       "      <td>True</td>\n",
       "    </tr>\n",
       "    <tr>\n",
       "      <th>38</th>\n",
       "      <td>2021-08-16 00:01:05</td>\n",
       "      <td>\"redhat-assisted-installer\"</td>\n",
       "      <td>periodic-ci-openshift-release-master-nightly-4...</td>\n",
       "      <td>TestInstall_test_install.start_install_and_wai...</td>\n",
       "      <td>60.004001</td>\n",
       "      <td>True</td>\n",
       "    </tr>\n",
       "  </tbody>\n",
       "</table>\n",
       "</div>"
      ],
      "text/plain": [
       "             timestamp                          tab  \\\n",
       "8  2021-08-16 23:03:14  \"redhat-assisted-installer\"   \n",
       "10 2021-08-16 00:01:05  \"redhat-assisted-installer\"   \n",
       "22 2021-08-16 23:03:14  \"redhat-assisted-installer\"   \n",
       "24 2021-08-16 00:01:05  \"redhat-assisted-installer\"   \n",
       "38 2021-08-16 00:01:05  \"redhat-assisted-installer\"   \n",
       "\n",
       "                                                 grid  \\\n",
       "8   periodic-ci-openshift-release-master-nightly-4...   \n",
       "10  periodic-ci-openshift-release-master-nightly-4...   \n",
       "22  periodic-ci-openshift-release-master-nightly-4...   \n",
       "24  periodic-ci-openshift-release-master-nightly-4...   \n",
       "38  periodic-ci-openshift-release-master-nightly-4...   \n",
       "\n",
       "                                                 test  test_duration  failure  \n",
       "8                                             Overall      20.016667     True  \n",
       "10                                            Overall     108.233333     True  \n",
       "22  operator.Run multi-stage test e2e-metal-assist...      13.166667     True  \n",
       "24  operator.Run multi-stage test e2e-metal-assist...      89.983333     True  \n",
       "38  TestInstall_test_install.start_install_and_wai...      60.004001     True  "
      ]
     },
     "execution_count": 12,
     "metadata": {},
     "output_type": "execute_result"
    }
   ],
   "source": [
    "failures_df.head()"
   ]
  },
  {
   "cell_type": "markdown",
   "metadata": {},
   "source": [
    "### Probability Distribution of Data\n",
    "Data Distribution is a function that lists out all possible values the data can take. It can be a continuous or discrete data distribution. Several known standard Probability Distribution functions provide probabilities of occurrence of different possible outcomes in an experiment. Some well-known probability distributions are Normal, Log-Normal, Beta, Gamma, etc. which have a standard form.\n",
    "\n",
    "We will try to approximate the distributions of the `test_duration` variable and also check its Goodness of fit for different TestGrid tests across all TestGrid dashboards and grids. Based on the type of distribution identified, we can calculate the probability of the test failing."
   ]
  },
  {
   "cell_type": "markdown",
   "metadata": {},
   "source": [
    "Let's see what are the common failing test types and identify the distribution for the top 3 test types."
   ]
  },
  {
   "cell_type": "code",
   "execution_count": 13,
   "metadata": {},
   "outputs": [
    {
     "data": {
      "text/plain": [
       "Overall                                                                                                                                                                                                                                                                                                                                                                                         26525\n",
       "openshift-tests.Monitor cluster while tests execute                                                                                                                                                                                                                                                                                                                                              4706\n",
       "openshift-tests.[sig-arch][Feature:ClusterUpgrade] Cluster should remain functional during upgrade [Disruptive] [Serial]                                                                                                                                                                                                                                                                         3172\n",
       "Cluster upgrade.[sig-arch] Check if alerts are firing during or after upgrade success                                                                                                                                                                                                                                                                                                            1973\n",
       "operator.Run multi-stage test e2e-aws-upgrade - e2e-aws-upgrade-openshift-e2e-test container test                                                                                                                                                                                                                                                                                                1485\n",
       "                                                                                                                                                                                                                                                                                                                                                                                                ...  \n",
       "openshift-tests.[k8s.io] Container Runtime blackbox test when running a container with a new image should be able to pull image from docker hub [LinuxOnly] [NodeConformance] [Suite:openshift/conformance/parallel] [Suite:k8s]                                                                                                                                                                    1\n",
       "[Elasticsearch] Verify Metrics Access.hack/testing-olm/test-200-verify-es-metrics-access.sh:70: executing 'oc -n e2e-test-2347 get deployment -l component=elasticsearch -o jsonpath='{.items[0].metadata.name}'' expecting success; re-trying every 0.2s until completion or 120.000s                                                                                                              1\n",
       "openshift-tests.[sig-storage] Projected downwardAPI [Top Level] [sig-storage] Projected downwardAPI should provide podname as non-root with fsgroup and defaultMode [LinuxOnly] [NodeFeature:FSGroup] [Suite:openshift/conformance/parallel] [Suite:k8s]                                                                                                                                            1\n",
       "openshift-tests.[sig-storage] In-tree Volumes [Driver: local][LocalVolumeType: blockfs] [Testpattern: Pre-provisioned PV (default fs)] subPath [Top Level] [sig-storage] In-tree Volumes [Driver: local][LocalVolumeType: blockfs] [Testpattern: Pre-provisioned PV (default fs)] subPath should support existing single file [LinuxOnly] [Suite:openshift/conformance/parallel] [Suite:k8s]        1\n",
       "openshift-tests.[sig-storage] In-tree Volumes [Driver: gcepd] [Testpattern: Pre-provisioned PV (filesystem volmode)] volumeMode [Top Level] [sig-storage] In-tree Volumes [Driver: gcepd] [Testpattern: Pre-provisioned PV (filesystem volmode)] volumeMode should not mount / map unused volumes in a pod [Suite:openshift/conformance/parallel] [Suite:k8s]                                       1\n",
       "Name: test, Length: 6828, dtype: int64"
      ]
     },
     "execution_count": 13,
     "metadata": {},
     "output_type": "execute_result"
    }
   ],
   "source": [
    "failures_df[\"test\"].value_counts()"
   ]
  },
  {
   "cell_type": "code",
   "execution_count": 14,
   "metadata": {},
   "outputs": [
    {
     "data": {
      "text/html": [
       "<div>\n",
       "<style scoped>\n",
       "    .dataframe tbody tr th:only-of-type {\n",
       "        vertical-align: middle;\n",
       "    }\n",
       "\n",
       "    .dataframe tbody tr th {\n",
       "        vertical-align: top;\n",
       "    }\n",
       "\n",
       "    .dataframe thead th {\n",
       "        text-align: right;\n",
       "    }\n",
       "</style>\n",
       "<table border=\"1\" class=\"dataframe\">\n",
       "  <thead>\n",
       "    <tr style=\"text-align: right;\">\n",
       "      <th></th>\n",
       "      <th>timestamp</th>\n",
       "      <th>tab</th>\n",
       "      <th>grid</th>\n",
       "      <th>test</th>\n",
       "      <th>test_duration</th>\n",
       "      <th>failure</th>\n",
       "    </tr>\n",
       "  </thead>\n",
       "  <tbody>\n",
       "    <tr>\n",
       "      <th>0</th>\n",
       "      <td>2021-08-18 15:43:11</td>\n",
       "      <td>\"redhat-openshift-informing\"</td>\n",
       "      <td>release-openshift-origin-installer-e2e-aws-upg...</td>\n",
       "      <td>openshift-tests.Monitor cluster while tests ex...</td>\n",
       "      <td>35.766667</td>\n",
       "      <td>True</td>\n",
       "    </tr>\n",
       "    <tr>\n",
       "      <th>1</th>\n",
       "      <td>2021-08-18 15:43:11</td>\n",
       "      <td>\"redhat-openshift-informing\"</td>\n",
       "      <td>release-openshift-origin-installer-e2e-aws-upg...</td>\n",
       "      <td>openshift-tests.Monitor cluster while tests ex...</td>\n",
       "      <td>53.200000</td>\n",
       "      <td>True</td>\n",
       "    </tr>\n",
       "    <tr>\n",
       "      <th>2</th>\n",
       "      <td>2021-08-18 14:56:49</td>\n",
       "      <td>\"redhat-openshift-informing\"</td>\n",
       "      <td>release-openshift-origin-installer-e2e-aws-upg...</td>\n",
       "      <td>openshift-tests.Monitor cluster while tests ex...</td>\n",
       "      <td>37.316667</td>\n",
       "      <td>True</td>\n",
       "    </tr>\n",
       "    <tr>\n",
       "      <th>3</th>\n",
       "      <td>2021-08-18 14:56:48</td>\n",
       "      <td>\"redhat-openshift-informing\"</td>\n",
       "      <td>release-openshift-origin-installer-e2e-aws-upg...</td>\n",
       "      <td>openshift-tests.Monitor cluster while tests ex...</td>\n",
       "      <td>54.200000</td>\n",
       "      <td>True</td>\n",
       "    </tr>\n",
       "    <tr>\n",
       "      <th>4</th>\n",
       "      <td>2021-08-11 22:52:13</td>\n",
       "      <td>\"redhat-openshift-informing\"</td>\n",
       "      <td>release-openshift-origin-installer-e2e-aws-upg...</td>\n",
       "      <td>openshift-tests.Monitor cluster while tests ex...</td>\n",
       "      <td>66.266667</td>\n",
       "      <td>True</td>\n",
       "    </tr>\n",
       "  </tbody>\n",
       "</table>\n",
       "</div>"
      ],
      "text/plain": [
       "            timestamp                           tab  \\\n",
       "0 2021-08-18 15:43:11  \"redhat-openshift-informing\"   \n",
       "1 2021-08-18 15:43:11  \"redhat-openshift-informing\"   \n",
       "2 2021-08-18 14:56:49  \"redhat-openshift-informing\"   \n",
       "3 2021-08-18 14:56:48  \"redhat-openshift-informing\"   \n",
       "4 2021-08-11 22:52:13  \"redhat-openshift-informing\"   \n",
       "\n",
       "                                                grid  \\\n",
       "0  release-openshift-origin-installer-e2e-aws-upg...   \n",
       "1  release-openshift-origin-installer-e2e-aws-upg...   \n",
       "2  release-openshift-origin-installer-e2e-aws-upg...   \n",
       "3  release-openshift-origin-installer-e2e-aws-upg...   \n",
       "4  release-openshift-origin-installer-e2e-aws-upg...   \n",
       "\n",
       "                                                test  test_duration  failure  \n",
       "0  openshift-tests.Monitor cluster while tests ex...      35.766667     True  \n",
       "1  openshift-tests.Monitor cluster while tests ex...      53.200000     True  \n",
       "2  openshift-tests.Monitor cluster while tests ex...      37.316667     True  \n",
       "3  openshift-tests.Monitor cluster while tests ex...      54.200000     True  \n",
       "4  openshift-tests.Monitor cluster while tests ex...      66.266667     True  "
      ]
     },
     "execution_count": 14,
     "metadata": {},
     "output_type": "execute_result"
    }
   ],
   "source": [
    "# Filter df for the \"openshift-tests.Monitor cluster while tests execute\" test\n",
    "failures_test1 = filter_test_type(\n",
    "    failures_df, \"openshift-tests.Monitor cluster while tests execute\"\n",
    ")\n",
    "failures_test1.head()"
   ]
  },
  {
   "cell_type": "code",
   "execution_count": 15,
   "metadata": {},
   "outputs": [
    {
     "data": {
      "text/plain": [
       "<AxesSubplot:>"
      ]
     },
     "execution_count": 15,
     "metadata": {},
     "output_type": "execute_result"
    },
    {
     "data": {
      "image/png": "[encoded data removed]",
      "text/plain": [
       "<Figure size 432x288 with 1 Axes>"
      ]
     },
     "metadata": {
      "needs_background": "light"
     },
     "output_type": "display_data"
    }
   ],
   "source": [
    "# Let's plot a histogram to visualize the distribution of the observed `test_duration` data points\n",
    "failures_test1[\"test_duration\"].hist()"
   ]
  },
  {
   "cell_type": "code",
   "execution_count": 16,
   "metadata": {},
   "outputs": [
    {
     "name": "stdout",
     "output_type": "stream",
     "text": [
      "<scipy.stats._continuous_distns.weibull_min_gen object at 0x7fdf1eb30310>\n",
      "(1.1042279647377544, -1.5875971128993993, 1.1831443395383223)\n",
      "\n",
      "<scipy.stats._continuous_distns.norm_gen object at 0x7fdf1eb8e040>\n",
      "(-9.862228386173587e-17, 1.0)\n",
      "\n",
      "<scipy.stats._continuous_distns.weibull_max_gen object at 0x7fdf1eb3f250>\n",
      "(0.599019386828437, 4.417151653057387, 1.2790196029347325)\n",
      "\n",
      "<scipy.stats._continuous_distns.beta_gen object at 0x7fdf1eb8ebe0>\n",
      "(3.0719695238210534, 34147.571958456116, -1.5930958533087356, 17510.059923911518)\n",
      "\n",
      "<scipy.stats._continuous_distns.invgauss_gen object at 0x7fdf1eb5e1f0>\n",
      "(0.35251156270290107, -1.7005070715900503, 4.823978614380098)\n",
      "\n",
      "<scipy.stats._continuous_distns.uniform_gen object at 0x7fdf1eab0b20>\n",
      "(-1.5875750310386525, 6.004726684096039)\n",
      "\n",
      "<scipy.stats._continuous_distns.gamma_gen object at 0x7fdf1eb3fd90>\n",
      "(2.8845349031268146, -1.5913846768363529, 0.5516999880889919)\n",
      "\n",
      "<scipy.stats._continuous_distns.expon_gen object at 0x7fdf1eba1ca0>\n",
      "(-1.5875750310386525, 1.5875750310386525)\n",
      "\n",
      "<scipy.stats._continuous_distns.lognorm_gen object at 0x7fdf1eaee7c0>\n",
      "(0.5825213092113792, -1.6345728759145968, 1.3767969357933814)\n",
      "\n",
      "<scipy.stats._continuous_distns.pearson3_gen object at 0x7fdf1eb12d90>\n",
      "(1.1775691825602044, -8.1590444380147e-17, 0.9369921331096474)\n",
      "\n",
      "<scipy.stats._continuous_distns.triang_gen object at 0x7fdf1eb246a0>\n",
      "(0.1248778780900142, -1.5897056693426617, 6.0241633835378146)\n",
      "\n",
      "\n",
      "Distributions listed by Betterment of fit:\n",
      "............................................\n",
      "   Distribution     chi_square and p-value\n",
      "4      invgauss   (4646.766989051567, 0.0)\n",
      "8       lognorm   (4697.511908744522, 0.0)\n",
      "9      pearson3   (5880.174500310818, 0.0)\n",
      "6         gamma   (5880.334295867299, 0.0)\n",
      "3          beta   (6170.944934253663, 0.0)\n",
      "7         expon   (9945.420120734118, 0.0)\n",
      "1          norm  (16156.909789575071, 0.0)\n",
      "0   weibull_min  (16830.232589423722, 0.0)\n",
      "10       triang  (25204.279697772778, 0.0)\n",
      "5       uniform  (62556.705157673874, 0.0)\n",
      "2   weibull_max  (1113298.5640934566, 0.0)\n"
     ]
    }
   ],
   "source": [
    "# Identify the distribution\n",
    "fit_distribution(failures_test1, \"test_duration\", 0.99, 0.01)"
   ]
  },
  {
   "cell_type": "markdown",
   "metadata": {},
   "source": [
    "We see that the top 2 distributions based on betterment of fit are Inverse Gaussian distribution and Log normal distribution. Let's plot the graphs for these two distributions."
   ]
  },
  {
   "cell_type": "code",
   "execution_count": 17,
   "metadata": {},
   "outputs": [],
   "source": [
    "y_std, len_y, y = standardize(failures_test1, \"test_duration\", 0.99, 0.01)"
   ]
  },
  {
   "cell_type": "code",
   "execution_count": 18,
   "metadata": {},
   "outputs": [
    {
     "data": {
      "image/png": "[encoded data removed]",
      "text/plain": [
       "<Figure size 648x360 with 3 Axes>"
      ]
     },
     "metadata": {
      "needs_background": "light"
     },
     "output_type": "display_data"
    }
   ],
   "source": [
    "# Plot the distributions\n",
    "fig, axes = plt.subplots(nrows=1, ncols=3, figsize=(9, 5))\n",
    "axes[0].hist(y)\n",
    "axes[0].set_xlabel(\"Test Duration\\n\\nHistogram plot of Oberseved Data\")\n",
    "axes[0].set_ylabel(\"Frequency\")\n",
    "# Plot the density plot for Inverse Gaussian distribution by passing the mu (shape parameter), loc (location)\n",
    "# and scale parameters obtained from above\n",
    "axes[1].plot(y, invgauss.pdf(y_std, 0.35, -1.70, 4.82))\n",
    "axes[1].set_xlabel(\"Test Duration\\n\\nInverse Gaussian Distribution\")\n",
    "axes[1].set_ylabel(\"pdf\")\n",
    "# Plot the density plot for Log Normal distribution by passing the mu (shape), loc (location) and\n",
    "# scale parameters obtained from above\n",
    "axes[2].plot(y, lognorm.pdf(y_std, 0.58, -1.63, 1.37))\n",
    "axes[2].set_xlabel(\"Test Duration\\n\\nLog Normal Distribution\")\n",
    "axes[2].set_ylabel(\"pdf\")\n",
    "fig.tight_layout()"
   ]
  },
  {
   "cell_type": "markdown",
   "metadata": {},
   "source": [
    "The Histogram plot shows the distribution of test duration values over all the data points. The Inverse Gaussian and Log Normal graphs are density plots which are a smoothed, continuous version of a histogram estimated from the data. It plots the probability density function (along Y-axis) vs the test duration values (along X-axis). Probability density plots are used to understand data distribution for a continuous variable and we want to know the likelihood (or probability) of obtaining a range of values that the continuous variable can assume. The area under the curve contains the probabilities for the test duration values."
   ]
  },
  {
   "cell_type": "markdown",
   "metadata": {},
   "source": [
    "Now, let's identify the distribution for the `openshift-tests.[sig-arch][Feature:ClusterUpgrade] Cluster should remain functional during upgrade [Disruptive] [Serial]` test"
   ]
  },
  {
   "cell_type": "code",
   "execution_count": 19,
   "metadata": {},
   "outputs": [
    {
     "data": {
      "text/html": [
       "<div>\n",
       "<style scoped>\n",
       "    .dataframe tbody tr th:only-of-type {\n",
       "        vertical-align: middle;\n",
       "    }\n",
       "\n",
       "    .dataframe tbody tr th {\n",
       "        vertical-align: top;\n",
       "    }\n",
       "\n",
       "    .dataframe thead th {\n",
       "        text-align: right;\n",
       "    }\n",
       "</style>\n",
       "<table border=\"1\" class=\"dataframe\">\n",
       "  <thead>\n",
       "    <tr style=\"text-align: right;\">\n",
       "      <th></th>\n",
       "      <th>timestamp</th>\n",
       "      <th>tab</th>\n",
       "      <th>grid</th>\n",
       "      <th>test</th>\n",
       "      <th>test_duration</th>\n",
       "      <th>failure</th>\n",
       "    </tr>\n",
       "  </thead>\n",
       "  <tbody>\n",
       "    <tr>\n",
       "      <th>0</th>\n",
       "      <td>2021-08-25 12:17:53</td>\n",
       "      <td>\"redhat-openshift-informing\"</td>\n",
       "      <td>release-openshift-okd-installer-e2e-aws-upgrade</td>\n",
       "      <td>openshift-tests.[sig-arch][Feature:ClusterUpgr...</td>\n",
       "      <td>85.600000</td>\n",
       "      <td>True</td>\n",
       "    </tr>\n",
       "    <tr>\n",
       "      <th>1</th>\n",
       "      <td>2021-08-25 04:41:24</td>\n",
       "      <td>\"redhat-openshift-informing\"</td>\n",
       "      <td>release-openshift-okd-installer-e2e-aws-upgrade</td>\n",
       "      <td>openshift-tests.[sig-arch][Feature:ClusterUpgr...</td>\n",
       "      <td>100.766667</td>\n",
       "      <td>True</td>\n",
       "    </tr>\n",
       "    <tr>\n",
       "      <th>2</th>\n",
       "      <td>2021-08-24 20:03:02</td>\n",
       "      <td>\"redhat-openshift-informing\"</td>\n",
       "      <td>release-openshift-okd-installer-e2e-aws-upgrade</td>\n",
       "      <td>openshift-tests.[sig-arch][Feature:ClusterUpgr...</td>\n",
       "      <td>98.050000</td>\n",
       "      <td>True</td>\n",
       "    </tr>\n",
       "    <tr>\n",
       "      <th>3</th>\n",
       "      <td>2021-08-24 04:35:23</td>\n",
       "      <td>\"redhat-openshift-informing\"</td>\n",
       "      <td>release-openshift-okd-installer-e2e-aws-upgrade</td>\n",
       "      <td>openshift-tests.[sig-arch][Feature:ClusterUpgr...</td>\n",
       "      <td>92.950000</td>\n",
       "      <td>True</td>\n",
       "    </tr>\n",
       "    <tr>\n",
       "      <th>4</th>\n",
       "      <td>2021-08-24 01:36:33</td>\n",
       "      <td>\"redhat-openshift-informing\"</td>\n",
       "      <td>release-openshift-okd-installer-e2e-aws-upgrade</td>\n",
       "      <td>openshift-tests.[sig-arch][Feature:ClusterUpgr...</td>\n",
       "      <td>92.166667</td>\n",
       "      <td>True</td>\n",
       "    </tr>\n",
       "  </tbody>\n",
       "</table>\n",
       "</div>"
      ],
      "text/plain": [
       "            timestamp                           tab  \\\n",
       "0 2021-08-25 12:17:53  \"redhat-openshift-informing\"   \n",
       "1 2021-08-25 04:41:24  \"redhat-openshift-informing\"   \n",
       "2 2021-08-24 20:03:02  \"redhat-openshift-informing\"   \n",
       "3 2021-08-24 04:35:23  \"redhat-openshift-informing\"   \n",
       "4 2021-08-24 01:36:33  \"redhat-openshift-informing\"   \n",
       "\n",
       "                                              grid  \\\n",
       "0  release-openshift-okd-installer-e2e-aws-upgrade   \n",
       "1  release-openshift-okd-installer-e2e-aws-upgrade   \n",
       "2  release-openshift-okd-installer-e2e-aws-upgrade   \n",
       "3  release-openshift-okd-installer-e2e-aws-upgrade   \n",
       "4  release-openshift-okd-installer-e2e-aws-upgrade   \n",
       "\n",
       "                                                test  test_duration  failure  \n",
       "0  openshift-tests.[sig-arch][Feature:ClusterUpgr...      85.600000     True  \n",
       "1  openshift-tests.[sig-arch][Feature:ClusterUpgr...     100.766667     True  \n",
       "2  openshift-tests.[sig-arch][Feature:ClusterUpgr...      98.050000     True  \n",
       "3  openshift-tests.[sig-arch][Feature:ClusterUpgr...      92.950000     True  \n",
       "4  openshift-tests.[sig-arch][Feature:ClusterUpgr...      92.166667     True  "
      ]
     },
     "execution_count": 19,
     "metadata": {},
     "output_type": "execute_result"
    }
   ],
   "source": [
    "# Filter df for the \"openshift-tests.[sig-arch][Feature:ClusterUpgrade] Cluster should remain functional during upgrade\n",
    "# [Disruptive] [Serial]\" test\n",
    "failures_test2 = filter_test_type(\n",
    "    failures_df,\n",
    "    \"openshift-tests.[sig-arch][Feature:ClusterUpgrade] Cluster should remain functional during upgrade [Disruptive] \\\n",
    "    [Serial]\",\n",
    ")\n",
    "failures_test2.head()"
   ]
  },
  {
   "cell_type": "code",
   "execution_count": 20,
   "metadata": {},
   "outputs": [
    {
     "data": {
      "text/plain": [
       "<AxesSubplot:>"
      ]
     },
     "execution_count": 20,
     "metadata": {},
     "output_type": "execute_result"
    },
    {
     "data": {
      "image/png": "[encoded data removed]",
      "text/plain": [
       "<Figure size 432x288 with 1 Axes>"
      ]
     },
     "metadata": {
      "needs_background": "light"
     },
     "output_type": "display_data"
    }
   ],
   "source": [
    "# Let's plot a histogram to visualize the distribution of the observed `test_duration` data points\n",
    "failures_test2[\"test_duration\"].hist()"
   ]
  },
  {
   "cell_type": "code",
   "execution_count": 21,
   "metadata": {},
   "outputs": [
    {
     "name": "stdout",
     "output_type": "stream",
     "text": [
      "<scipy.stats._continuous_distns.weibull_min_gen object at 0x7fdf1eb30310>\n",
      "(2.4666409250029213, -2.429851499670257, 2.730324003150882)\n",
      "\n",
      "<scipy.stats._continuous_distns.norm_gen object at 0x7fdf1eb8e040>\n",
      "(2.1940206700858674e-16, 1.0)\n",
      "\n",
      "<scipy.stats._continuous_distns.weibull_max_gen object at 0x7fdf1eb3f250>\n",
      "(0.5355423727332492, 3.4269735536094625, 1.5869343569701275)\n",
      "\n",
      "<scipy.stats._continuous_distns.beta_gen object at 0x7fdf1eb8ebe0>\n",
      "(10.126767023068037, 323844.2286736137, -2.9681707939841058, 94950.1014663442)\n",
      "\n",
      "<scipy.stats._continuous_distns.invgauss_gen object at 0x7fdf1eb5e1f0>\n",
      "(0.06184493537752664, -3.7331784362505163, 60.36352672018438)\n",
      "\n",
      "<scipy.stats._continuous_distns.uniform_gen object at 0x7fdf1eab0b20>\n",
      "(-2.3600801098082758, 5.787053663417738)\n",
      "\n",
      "<scipy.stats._continuous_distns.gamma_gen object at 0x7fdf1eb3fd90>\n",
      "(10.131064867707352, -2.9565063612679223, 0.2918259243225382)\n",
      "\n",
      "<scipy.stats._continuous_distns.expon_gen object at 0x7fdf1eba1ca0>\n",
      "(-2.3600801098082758, 2.3600801098082758)\n",
      "\n",
      "<scipy.stats._continuous_distns.lognorm_gen object at 0x7fdf1eaee7c0>\n",
      "(0.2596785561409856, -3.5107801112747077, 3.3899163007423416)\n",
      "\n",
      "<scipy.stats._continuous_distns.pearson3_gen object at 0x7fdf1eb12d90>\n",
      "(0.6282905320076116, 2.598344433497942e-16, 0.9288213773869954)\n",
      "\n",
      "<scipy.stats._continuous_distns.triang_gen object at 0x7fdf1eb246a0>\n",
      "(0.32166229560869486, -2.400868582013486, 6.101777076749301)\n",
      "\n",
      "\n",
      "Distributions listed by Betterment of fit:\n",
      "............................................\n",
      "   Distribution     chi_square and p-value\n",
      "8       lognorm   (3414.440248564422, 0.0)\n",
      "4      invgauss  (3564.6536127421323, 0.0)\n",
      "9      pearson3   (3836.020406427195, 0.0)\n",
      "6         gamma  (3836.1215533111454, 0.0)\n",
      "3          beta   (3864.133649180025, 0.0)\n",
      "0   weibull_min   (5253.086199836209, 0.0)\n",
      "1          norm   (6015.403056755193, 0.0)\n",
      "10       triang   (8079.894052575527, 0.0)\n",
      "7         expon  (13245.469287380836, 0.0)\n",
      "5       uniform  (14363.637258136947, 0.0)\n",
      "2   weibull_max  (319418.87570963765, 0.0)\n"
     ]
    }
   ],
   "source": [
    "# Identify the distribution\n",
    "fit_distribution(failures_test2, \"test_duration\", 0.99, 0.01)"
   ]
  },
  {
   "cell_type": "markdown",
   "metadata": {},
   "source": [
    "We see that the top 2 distributions based on betterment of fit are Log Normal and Inverse Gaussian distribution. Let's plot the graphs for these two distributions."
   ]
  },
  {
   "cell_type": "code",
   "execution_count": 22,
   "metadata": {},
   "outputs": [],
   "source": [
    "y_std, len_y, y = standardize(failures_test2, \"test_duration\", 0.99, 0.01)"
   ]
  },
  {
   "cell_type": "code",
   "execution_count": 23,
   "metadata": {},
   "outputs": [
    {
     "data": {
      "image/png": "[encoded data removed]",
      "text/plain": [
       "<Figure size 648x360 with 3 Axes>"
      ]
     },
     "metadata": {
      "needs_background": "light"
     },
     "output_type": "display_data"
    }
   ],
   "source": [
    "# Plot the distributions\n",
    "fig, axes = plt.subplots(nrows=1, ncols=3, figsize=(9, 5))\n",
    "axes[0].hist(y)\n",
    "axes[0].set_xlabel(\"Test Duration\\n\\nHistogram plot of Oberseved Data\")\n",
    "axes[0].set_ylabel(\"Frequency\")\n",
    "# Plot the density plot for Log Normal distribution by passing the mu (shape), loc (location) and\n",
    "# scale parameters obtained from above\n",
    "axes[1].plot(y, lognorm.pdf(y_std, 0.25, -3.51, 3.38))\n",
    "axes[1].set_xlabel(\"Test Duration\\n\\nLog Normal Distribution\")\n",
    "axes[1].set_ylabel(\"pdf\")\n",
    "# Plot the density plot for Inverse Gaussian distribution by passing the mu (shape), loc (location) and\n",
    "# scale parameters obtained from above\n",
    "axes[2].plot(y, invgauss.pdf(y_std, 0.06, -3.73, 60.36))\n",
    "axes[2].set_xlabel(\"Test Duration\\n\\nInverse Gaussian Distribution\")\n",
    "axes[2].set_ylabel(\"pdf\")\n",
    "fig.tight_layout()"
   ]
  },
  {
   "cell_type": "markdown",
   "metadata": {},
   "source": [
    "The Histogram plot shows the distribution of test duration values over all the data points. The Log Normal and Inverse Gaussian graphs are density plots which are a smoothed, continuous version of a histogram estimated from the data. It plots the probability density function (along Y-axis) vs the test duration values (along X-axis). Probability density plots are used to understand data distribution for a continuous variable and we want to know the likelihood (or probability) of obtaining a range of values that the continuous variable can assume. The area under the curve contains the probabilities for the test duration values."
   ]
  },
  {
   "cell_type": "markdown",
   "metadata": {},
   "source": [
    "## Conclusion:\n",
    "\n",
    "In this notebook, we have first filtered the testgrid for only failing tests and then plotted distribution for different TestGrid tests for the feature `test_duration`. We have observed that different TestGrid tests have different types of distribution for the test_duration. For future work, we aim to predict an optimal stopping point for each test considering the distribution type so as to make appropriate predictions."
   ]
  }
 ],
 "metadata": {
  "kernelspec": {
   "display_name": "Python 3",
   "language": "python",
   "name": "python3"
  },
  "language_info": {
   "codemirror_mode": {
    "name": "ipython",
    "version": 3
   },
   "file_extension": ".py",
   "mimetype": "text/x-python",
   "name": "python",
   "nbconvert_exporter": "python",
   "pygments_lexer": "ipython3",
   "version": "3.8.3"
  }
 },
 "nbformat": 4,
 "nbformat_minor": 4
}
